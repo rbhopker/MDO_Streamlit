{
 "cells": [
  {
   "cell_type": "code",
   "execution_count": 3,
   "metadata": {},
   "outputs": [],
   "source": [
    "def biomethane(G_in, G_comp):\n",
    "    #G_comp=[ch4Out, co2Out, noxOut, soxOut]\n",
    "    #constants\n",
    "    ch4_pur = 0.965  #ch4 density of biomethane in Brazil\n",
    "    v_bm = G_in * (G_comp[0] / ch4_pur)  #biomethane produced\n",
    "    \n",
    "    return v_bm\n",
    "\n",
    "\n",
    "def scm_to_m3(scm):\n",
    "    #biomethane storage temperature = 50C\n",
    "    #source: https://checalc.com/solved/volconv.html\n",
    "    K = 273 #temp conversion to Kelvin\n",
    "    P1 = P2 = 1 #pressure\n",
    "    T1 = 15 #scm temp\n",
    "    T2 = 50 #biomethane temp\n",
    "    m3 = scm * (P1/P2) * ((T2+K)/(T1+K))\n",
    "    return m3\n",
    "\n",
    "def biofertilizer(digOut):\n",
    "    # vs_r = 0.43   #rate of volatile solid in the total manure\n",
    "    # vs = kilos * vs_r  #amount of volatile solid\n",
    "    \n",
    "    #pdy = (kilos - vs) + (vs * 0.4)  #(non-volatile solid) + (remnants of volatile solid)\n",
    "    pdy = digOut * 0.9 #rate of digestate conversion to biofertilizer\n",
    "    \n",
    "    return pdy\n",
    "    \n",
    "def ghg(iIn, wComp, G_in, G_comp):\n",
    "    #GHG release by manure type (unit: g/head/yr) -> g/tonne  (kilos kg/day)\n",
    "    #CH4: cattle 39.5; swine 18; poultry 0.157\n",
    "    #CO2: cattle 12; swine 5.47; poultry 0.048\n",
    "    #NOx: cattle 0.02; swine 0.02; poultry 0.005\n",
    "    #SOx: 0\n",
    "    ch4_ghg = [39500, 18000, 157]\n",
    "    co2_ghg = [12000, 5470, 48]\n",
    "    nox_ghg = [20, 20, 5]\n",
    "    \n",
    "    #unit conversion to g/tonne -> need the weight of manure by types\n",
    "    # manure amount (tonne_conv) * SUM (composition of manure type by animal (wComp) * GHG emission per day by animal (ch4_ghg/365))\n",
    "    tonne_conv = iIn * 0.001\n",
    "    ch4_r = tonne_conv * (wComp[0] * (ch4_ghg[0]/365) + wComp[1]* (ch4_ghg[1]/365) + wComp[2] * (ch4_ghg[2]/365))\n",
    "    co2_r = tonne_conv * (wComp[0] * (co2_ghg[0]/365) + wComp[1] * (co2_ghg[1]/365) + wComp[2] * (co2_ghg[2]/365))\n",
    "    nox_r = tonne_conv * (wComp[0] * (nox_ghg[0]/365) + wComp[1] * (nox_ghg[1]/365) + wComp[2] * (nox_ghg[2]/365))\n",
    "    sox_r = 0 #value is minimal\n",
    "    \n",
    "    ghg_r = [ch4_r,co2_r,nox_r,sox_r]\n",
    "    \n",
    "    #GHG captured during the biogas post-treatment process\n",
    "    #tentatively measured based on the result from biomethane & biogas composition rate\n",
    "    ch4_c = 0.001 * biomethane(G_in, G_comp)\n",
    "    co2_c = 0.001 * G_in * G_comp[1] * 0.9 #CO2 recovery rate 90%\n",
    "    nox_c = 0.001 * G_in * G_comp[2]\n",
    "    sox_c = 0.001 * G_in * G_comp[3]\n",
    "    \n",
    "    ghg_c = [ch4_c,co2_c,nox_c,sox_c]\n",
    "    \n",
    "    return ghg_r, ghg_c\n",
    "\n",
    "def bgm_cost(G_comp, G_in, digOut):\n",
    "    #wComp, G_in are used for biogas cost\n",
    "    #digOut is used for biofertilizer cost\n",
    "\n",
    "    #BIOGAS COST\n",
    "    #parameters:\n",
    "    #energy consumtion (ec) = 0.2534 kWh/kg_co2\n",
    "    #electricity cost = 0.07 USD/kWh\n",
    "    #area of polymeric membrane required (pma)= 67.7m2/kg_co2\n",
    "    #polymeric membrane cost = 20 USD/m2\n",
    "    # 1 m3 (CO2) = 1.836 kg\n",
    "    ec = 0.2534 * G_in * G_comp[1]*1.836\n",
    "    pma = 67.7 * G_in * G_comp[1]*1.836\n",
    "    tc_bg = (ec * 0.07) + (pma * 20)/2738\n",
    "\n",
    "    #BIOFERTILIZER COST\n",
    "    #parameters:\n",
    "    #Treatment cost of raw digestate = 275 USD/tonne\n",
    "    tc_bf = 275 * digOut * 0.001\n",
    "\n",
    "    #LABOUR COST\n",
    "    #assumption: one person is needed to maintain \n",
    "    #both biogas upgrading & biofertilizer processing\n",
    "    #Direct labour cost based on 8h/day; 15$/h\n",
    "    lc = 8 * 15\n",
    "\n",
    "    # print(\"Cost of biogas upgrading:\", tc_bg)\n",
    "    # print(\"Cost of digesate treatment:\",tc_bf)\n",
    "    # print(\"Cost of labour:\", lc)\n",
    "    # print(\"Total operating cost of Biogas Module:\", tc_bg + tc_bf + lc)\n",
    "\n",
    "    return tc_bg + tc_bf + lc"
   ]
  },
  {
   "cell_type": "code",
   "execution_count": 4,
   "metadata": {},
   "outputs": [
    {
     "ename": "TypeError",
     "evalue": "'int' object is not subscriptable",
     "output_type": "error",
     "traceback": [
      "\u001b[0;31m---------------------------------------------------------------------------\u001b[0m",
      "\u001b[0;31mTypeError\u001b[0m                                 Traceback (most recent call last)",
      "\u001b[0;32m<ipython-input-4-7b651c658bb0>\u001b[0m in \u001b[0;36m<module>\u001b[0;34m()\u001b[0m\n\u001b[0;32m----> 1\u001b[0;31m \u001b[0mghg_r\u001b[0m\u001b[0;34m,\u001b[0m \u001b[0mghg_c\u001b[0m \u001b[0;34m=\u001b[0m \u001b[0mghg\u001b[0m\u001b[0;34m(\u001b[0m\u001b[0;36m100\u001b[0m\u001b[0;34m,\u001b[0m\u001b[0;36m120\u001b[0m\u001b[0;34m,\u001b[0m\u001b[0;36m200\u001b[0m\u001b[0;34m,\u001b[0m\u001b[0;36m100\u001b[0m\u001b[0;34m)\u001b[0m\u001b[0;34m\u001b[0m\u001b[0;34m\u001b[0m\u001b[0m\n\u001b[0m\u001b[1;32m      2\u001b[0m \u001b[0;34m\u001b[0m\u001b[0m\n\u001b[1;32m      3\u001b[0m \u001b[0mprint\u001b[0m\u001b[0;34m(\u001b[0m\u001b[0;34m\"Released GHG: \"\u001b[0m\u001b[0;34m,\u001b[0m \u001b[0mghg_r\u001b[0m\u001b[0;34m)\u001b[0m\u001b[0;34m\u001b[0m\u001b[0;34m\u001b[0m\u001b[0m\n\u001b[1;32m      4\u001b[0m \u001b[0mprint\u001b[0m\u001b[0;34m(\u001b[0m\u001b[0;34m\"Captured GHG: \"\u001b[0m\u001b[0;34m,\u001b[0m \u001b[0mghg_c\u001b[0m\u001b[0;34m)\u001b[0m\u001b[0;34m\u001b[0m\u001b[0;34m\u001b[0m\u001b[0m\n",
      "\u001b[0;32m<ipython-input-3-2aaa6a233aba>\u001b[0m in \u001b[0;36mghg\u001b[0;34m(iIn, wComp, G_in, G_comp)\u001b[0m\n\u001b[1;32m     40\u001b[0m     \u001b[0;31m# manure amount (tonne_conv) * SUM (composition of manure type by animal (wComp) * GHG emission per day by animal (ch4_ghg/365))\u001b[0m\u001b[0;34m\u001b[0m\u001b[0;34m\u001b[0m\u001b[0;34m\u001b[0m\u001b[0m\n\u001b[1;32m     41\u001b[0m     \u001b[0mtonne_conv\u001b[0m \u001b[0;34m=\u001b[0m \u001b[0miIn\u001b[0m \u001b[0;34m*\u001b[0m \u001b[0;36m0.001\u001b[0m\u001b[0;34m\u001b[0m\u001b[0;34m\u001b[0m\u001b[0m\n\u001b[0;32m---> 42\u001b[0;31m     \u001b[0mch4_r\u001b[0m \u001b[0;34m=\u001b[0m \u001b[0mtonne_conv\u001b[0m \u001b[0;34m*\u001b[0m \u001b[0;34m(\u001b[0m\u001b[0mwComp\u001b[0m\u001b[0;34m[\u001b[0m\u001b[0;36m0\u001b[0m\u001b[0;34m]\u001b[0m \u001b[0;34m*\u001b[0m \u001b[0;34m(\u001b[0m\u001b[0mch4_ghg\u001b[0m\u001b[0;34m[\u001b[0m\u001b[0;36m0\u001b[0m\u001b[0;34m]\u001b[0m\u001b[0;34m/\u001b[0m\u001b[0;36m365\u001b[0m\u001b[0;34m)\u001b[0m \u001b[0;34m+\u001b[0m \u001b[0mwComp\u001b[0m\u001b[0;34m[\u001b[0m\u001b[0;36m1\u001b[0m\u001b[0;34m]\u001b[0m\u001b[0;34m*\u001b[0m \u001b[0;34m(\u001b[0m\u001b[0mch4_ghg\u001b[0m\u001b[0;34m[\u001b[0m\u001b[0;36m1\u001b[0m\u001b[0;34m]\u001b[0m\u001b[0;34m/\u001b[0m\u001b[0;36m365\u001b[0m\u001b[0;34m)\u001b[0m \u001b[0;34m+\u001b[0m \u001b[0mwComp\u001b[0m\u001b[0;34m[\u001b[0m\u001b[0;36m2\u001b[0m\u001b[0;34m]\u001b[0m \u001b[0;34m*\u001b[0m \u001b[0;34m(\u001b[0m\u001b[0mch4_ghg\u001b[0m\u001b[0;34m[\u001b[0m\u001b[0;36m2\u001b[0m\u001b[0;34m]\u001b[0m\u001b[0;34m/\u001b[0m\u001b[0;36m365\u001b[0m\u001b[0;34m)\u001b[0m\u001b[0;34m)\u001b[0m\u001b[0;34m\u001b[0m\u001b[0;34m\u001b[0m\u001b[0m\n\u001b[0m\u001b[1;32m     43\u001b[0m     \u001b[0mco2_r\u001b[0m \u001b[0;34m=\u001b[0m \u001b[0mtonne_conv\u001b[0m \u001b[0;34m*\u001b[0m \u001b[0;34m(\u001b[0m\u001b[0mwComp\u001b[0m\u001b[0;34m[\u001b[0m\u001b[0;36m0\u001b[0m\u001b[0;34m]\u001b[0m \u001b[0;34m*\u001b[0m \u001b[0;34m(\u001b[0m\u001b[0mco2_ghg\u001b[0m\u001b[0;34m[\u001b[0m\u001b[0;36m0\u001b[0m\u001b[0;34m]\u001b[0m\u001b[0;34m/\u001b[0m\u001b[0;36m365\u001b[0m\u001b[0;34m)\u001b[0m \u001b[0;34m+\u001b[0m \u001b[0mwComp\u001b[0m\u001b[0;34m[\u001b[0m\u001b[0;36m1\u001b[0m\u001b[0;34m]\u001b[0m \u001b[0;34m*\u001b[0m \u001b[0;34m(\u001b[0m\u001b[0mco2_ghg\u001b[0m\u001b[0;34m[\u001b[0m\u001b[0;36m1\u001b[0m\u001b[0;34m]\u001b[0m\u001b[0;34m/\u001b[0m\u001b[0;36m365\u001b[0m\u001b[0;34m)\u001b[0m \u001b[0;34m+\u001b[0m \u001b[0mwComp\u001b[0m\u001b[0;34m[\u001b[0m\u001b[0;36m2\u001b[0m\u001b[0;34m]\u001b[0m \u001b[0;34m*\u001b[0m \u001b[0;34m(\u001b[0m\u001b[0mco2_ghg\u001b[0m\u001b[0;34m[\u001b[0m\u001b[0;36m2\u001b[0m\u001b[0;34m]\u001b[0m\u001b[0;34m/\u001b[0m\u001b[0;36m365\u001b[0m\u001b[0;34m)\u001b[0m\u001b[0;34m)\u001b[0m\u001b[0;34m\u001b[0m\u001b[0;34m\u001b[0m\u001b[0m\n\u001b[1;32m     44\u001b[0m     \u001b[0mnox_r\u001b[0m \u001b[0;34m=\u001b[0m \u001b[0mtonne_conv\u001b[0m \u001b[0;34m*\u001b[0m \u001b[0;34m(\u001b[0m\u001b[0mwComp\u001b[0m\u001b[0;34m[\u001b[0m\u001b[0;36m0\u001b[0m\u001b[0;34m]\u001b[0m \u001b[0;34m*\u001b[0m \u001b[0;34m(\u001b[0m\u001b[0mnox_ghg\u001b[0m\u001b[0;34m[\u001b[0m\u001b[0;36m0\u001b[0m\u001b[0;34m]\u001b[0m\u001b[0;34m/\u001b[0m\u001b[0;36m365\u001b[0m\u001b[0;34m)\u001b[0m \u001b[0;34m+\u001b[0m \u001b[0mwComp\u001b[0m\u001b[0;34m[\u001b[0m\u001b[0;36m1\u001b[0m\u001b[0;34m]\u001b[0m \u001b[0;34m*\u001b[0m \u001b[0;34m(\u001b[0m\u001b[0mnox_ghg\u001b[0m\u001b[0;34m[\u001b[0m\u001b[0;36m1\u001b[0m\u001b[0;34m]\u001b[0m\u001b[0;34m/\u001b[0m\u001b[0;36m365\u001b[0m\u001b[0;34m)\u001b[0m \u001b[0;34m+\u001b[0m \u001b[0mwComp\u001b[0m\u001b[0;34m[\u001b[0m\u001b[0;36m2\u001b[0m\u001b[0;34m]\u001b[0m \u001b[0;34m*\u001b[0m \u001b[0;34m(\u001b[0m\u001b[0mnox_ghg\u001b[0m\u001b[0;34m[\u001b[0m\u001b[0;36m2\u001b[0m\u001b[0;34m]\u001b[0m\u001b[0;34m/\u001b[0m\u001b[0;36m365\u001b[0m\u001b[0;34m)\u001b[0m\u001b[0;34m)\u001b[0m\u001b[0;34m\u001b[0m\u001b[0;34m\u001b[0m\u001b[0m\n",
      "\u001b[0;31mTypeError\u001b[0m: 'int' object is not subscriptable"
     ]
    }
   ],
   "source": [
    "ghg_r, ghg_c = ghg(100,120,200,100)\n",
    "\n",
    "print(\"Released GHG: \", ghg_r)\n",
    "print(\"Captured GHG: \", ghg_c)"
   ]
  },
  {
   "cell_type": "code",
   "execution_count": 5,
   "metadata": {},
   "outputs": [
    {
     "ename": "NameError",
     "evalue": "name 'iIn' is not defined",
     "output_type": "error",
     "traceback": [
      "\u001b[0;31m---------------------------------------------------------------------------\u001b[0m",
      "\u001b[0;31mNameError\u001b[0m                                 Traceback (most recent call last)",
      "\u001b[0;32m<ipython-input-5-36027bd6a99c>\u001b[0m in \u001b[0;36m<module>\u001b[0;34m()\u001b[0m\n\u001b[0;32m----> 1\u001b[0;31m \u001b[0miIn\u001b[0m\u001b[0;34m\u001b[0m\u001b[0;34m\u001b[0m\u001b[0m\n\u001b[0m",
      "\u001b[0;31mNameError\u001b[0m: name 'iIn' is not defined"
     ]
    }
   ],
   "source": [
    "iIn"
   ]
  },
  {
   "cell_type": "code",
   "execution_count": 9,
   "metadata": {},
   "outputs": [
    {
     "name": "stdout",
     "output_type": "stream",
     "text": [
      "Daily amount of effleunt gas:  100 scm/d\n",
      "CH4 composition rate:  0.6\n",
      "CH4 purity rate:  0.965\n",
      "------------------------\n",
      "Amount of Bio-methane produced:  62.17616580310881 scm/d\n"
     ]
    },
    {
     "data": {
      "text/plain": [
       "62.17616580310881"
      ]
     },
     "execution_count": 9,
     "metadata": {},
     "output_type": "execute_result"
    }
   ],
   "source": [
    "biomethane(100)"
   ]
  },
  {
   "cell_type": "code",
   "execution_count": 10,
   "metadata": {},
   "outputs": [
    {
     "name": "stdout",
     "output_type": "stream",
     "text": [
      "Total manure processed per day:  100 kg/d\n",
      "Amount of volatile solid:  43.0\n",
      "------------------------\n",
      "Amount of biofertilizer produced:  74.2 kg/d\n"
     ]
    },
    {
     "data": {
      "text/plain": [
       "74.2"
      ]
     },
     "execution_count": 10,
     "metadata": {},
     "output_type": "execute_result"
    }
   ],
   "source": [
    "biofertilizer(100)"
   ]
  },
  {
   "cell_type": "code",
   "execution_count": 12,
   "metadata": {},
   "outputs": [
    {
     "name": "stdout",
     "output_type": "stream",
     "text": [
      "[0.         0.01020408 0.02040816 0.03061224 0.04081633 0.05102041\n",
      " 0.06122449 0.07142857 0.08163265 0.09183673 0.10204082 0.1122449\n",
      " 0.12244898 0.13265306 0.14285714 0.15306122 0.16326531 0.17346939\n",
      " 0.18367347 0.19387755 0.20408163 0.21428571 0.2244898  0.23469388\n",
      " 0.24489796 0.25510204 0.26530612 0.2755102  0.28571429 0.29591837\n",
      " 0.30612245 0.31632653 0.32653061 0.33673469 0.34693878 0.35714286\n",
      " 0.36734694 0.37755102 0.3877551  0.39795918 0.40816327 0.41836735\n",
      " 0.42857143 0.43877551 0.44897959 0.45918367 0.46938776 0.47959184\n",
      " 0.48979592 0.5       ]\n",
      "return [1.         0.97030603 0.94237552 0.91610375 0.89139221 0.86814823\n",
      " 0.84628466 0.82571953 0.80637572 0.78818069 0.77106623 0.75496817\n",
      " 0.73982613 0.72558335 0.71218642 0.69958511 0.68773216 0.67658313\n",
      " 0.66609622 0.65623211 0.64695381 0.63822652 0.63001753 0.62229606\n",
      " 0.61503315 0.60820157 0.6017757  0.59573145 0.59004616 0.5846985\n",
      " 0.57966843 0.57493709 0.57048673 0.56630067 0.56236321 0.55865958\n",
      " 0.55517591 0.55189913 0.54881694 0.54591781 0.54319084 0.54062583\n",
      " 0.53821314 0.53594374 0.53380912 0.53180126 0.52991265 0.5281362\n",
      " 0.52646525 0.52489353]\n"
     ]
    },
    {
     "data": {
      "text/plain": [
       "Text(0, 0.5, 'A')"
      ]
     },
     "execution_count": 12,
     "metadata": {},
     "output_type": "execute_result"
    },
    {
     "data": {
      "image/png": "[encoded data removed]",
      "text/plain": [
       "<Figure size 432x288 with 1 Axes>"
      ]
     },
     "metadata": {
      "needs_background": "light"
     },
     "output_type": "display_data"
    }
   ],
   "source": [
    "\n",
    "import autograd.numpy as np\n",
    "A0 = 1.0\n",
    "def A(t, k1, k_1):\n",
    "    print(t)\n",
    "    print(\"return\",A0 / (k1 + k_1) * (k1 * np.exp(-(k1 + k_1) * t) + k_1))\n",
    "    return A0 / (k1 + k_1) * (k1 * np.exp(-(k1 + k_1) * t) + k_1)\n",
    "%matplotlib inline\n",
    "import matplotlib.pyplot as plt\n",
    "t = np.linspace(0, 0.5)\n",
    "k1 = 3.0\n",
    "k_1 = 3.0\n",
    "plt.plot(t, A(t, k1, k_1))\n",
    "plt.xlim([0, 0.5])\n",
    "plt.ylim([0, 1])\n",
    "plt.xlabel('t')\n",
    "plt.ylabel('A')"
   ]
  },
  {
   "cell_type": "code",
   "execution_count": 10,
   "metadata": {},
   "outputs": [
    {
     "ename": "TypeError",
     "evalue": "type numpy.ndarray doesn't define __round__ method",
     "output_type": "error",
     "traceback": [
      "\u001b[0;31m---------------------------------------------------------------------------\u001b[0m",
      "\u001b[0;31mTypeError\u001b[0m                                 Traceback (most recent call last)",
      "\u001b[0;32m<ipython-input-10-63baf3f6344d>\u001b[0m in \u001b[0;36m<module>\u001b[0;34m()\u001b[0m\n\u001b[1;32m      2\u001b[0m \u001b[0;34m\u001b[0m\u001b[0m\n\u001b[1;32m      3\u001b[0m \u001b[0mn_g\u001b[0m \u001b[0;34m=\u001b[0m \u001b[0mnp\u001b[0m\u001b[0;34m.\u001b[0m\u001b[0mlinspace\u001b[0m\u001b[0;34m(\u001b[0m\u001b[0;36m1\u001b[0m\u001b[0;34m,\u001b[0m\u001b[0;36m5\u001b[0m\u001b[0;34m,\u001b[0m\u001b[0;36m5\u001b[0m\u001b[0;34m)\u001b[0m\u001b[0;34m\u001b[0m\u001b[0;34m\u001b[0m\u001b[0m\n\u001b[0;32m----> 4\u001b[0;31m \u001b[0mn_g\u001b[0m \u001b[0;34m=\u001b[0m \u001b[0mint\u001b[0m\u001b[0;34m(\u001b[0m\u001b[0mround\u001b[0m\u001b[0;34m(\u001b[0m\u001b[0mn_g\u001b[0m\u001b[0;34m,\u001b[0m\u001b[0;36m0\u001b[0m\u001b[0;34m)\u001b[0m\u001b[0;34m)\u001b[0m\u001b[0;34m\u001b[0m\u001b[0;34m\u001b[0m\u001b[0m\n\u001b[0m",
      "\u001b[0;31mTypeError\u001b[0m: type numpy.ndarray doesn't define __round__ method"
     ]
    }
   ],
   "source": [
    "import numpy as np\n",
    "\n",
    "n_g = np.linspace(1,5,5)\n",
    "n_g = int(round(n_g,0))"
   ]
  },
  {
   "cell_type": "code",
   "execution_count": 25,
   "metadata": {},
   "outputs": [
    {
     "name": "stdout",
     "output_type": "stream",
     "text": [
      "vector [0.483662871, 1.0, 26.2359775, 0.00111820675, 1.0, 0.0, 0.0, 1.0, 0.0, 1.0, 0.0]\n",
      "vector [0.483662871, 1.0, 26.2359775, 0.00111820675, 1.0, 0.0, 0.0, 1.0, 0.0, 1.0, 0.0]\n",
      "vector [0.483662871, 1.0, 26.2359775, 0.00111820675, 1.0, 0.0, 0.0, 1.0, 0.0, 1.0, 0.0]\n",
      "vector [0.483662871, 1.0, 26.2359775, 0.00111820675, 1.0, 0.0, 0.0, 1.0, 0.0, 1.0, 0.0]\n",
      "vector [0.483662871, 1.0, 26.2359775, 0.00111820675, 1.0, 0.0, 0.0, 1.0, 0.0, 1.0, 0.0]\n",
      "vector [0.483662871, 1.0, 26.2359775, 0.00111820675, 1.0, 0.0, 0.0, 1.0, 0.0, 1.0, 0.0]\n",
      "vector [0.483662871, 1.0, 26.2359775, 0.00111820675, 1.0, 0.0, 0.0, 1.0, 0.0, 1.0, 0.0]\n",
      "vector [0.483662871, 1.0, 26.2359775, 0.00111820675, 1.0, 0.0, 0.0, 1.0, 0.0, 1.0, 0.0]\n",
      "vector [0.483662871, 1.0, 26.2359775, 0.00111820675, 1.0, 0.0, 0.0, 1.0, 0.0, 1.0, 0.0]\n",
      "vector [0.483662871, 1.0, 26.2359775, 0.00111820675, 1.0, 0.0, 0.0, 1.0, 0.0, 1.0, 0.0]\n",
      "return [47171289.307398334, 47206272.40055585, 47241255.493713364, 47276238.58687089, 47311221.6800284, 47346204.773185916, 47381187.86634344, 47416170.95950095, 47451154.052658476, 47486137.14581599]\n"
     ]
    },
    {
     "data": {
      "text/plain": [
       "Text(0, 0.5, 'NPV')"
      ]
     },
     "execution_count": 25,
     "metadata": {},
     "output_type": "execute_result"
    },
    {
     "data": {
      "image/png": "[encoded data removed]",
      "text/plain": [
       "<Figure size 432x288 with 1 Axes>"
      ]
     },
     "metadata": {
      "needs_background": "light"
     },
     "output_type": "display_data"
    }
   ],
   "source": [
    "import pandas as pd\n",
    "from scipy.integrate import odeint\n",
    "import numpy as np\n",
    "import matplotlib.pyplot as plt\n",
    "from sko.GA import GA\n",
    "\n",
    "from constants import *\n",
    "from cost_module_funcs2 import do_all_list_cp,system_npv,JtokWh ,farmer_npv\n",
    "from digesterModule import digester\n",
    "import cost_module_funcs2 as C2\n",
    "import Transport as T\n",
    "import biogas as B\n",
    "import pickle\n",
    "from math import inf\n",
    "\n",
    "# Variables we want to keep track in DOE\n",
    "farm=[]\n",
    "system=[]\n",
    "# with open('data_transport.p', 'rb') as fp:\n",
    "#     dict_T = pickle.load(fp)\n",
    "with open('full_transp.p', 'rb') as fp:\n",
    "    dict_T = pickle.load(fp)\n",
    "\n",
    "# url=r'C:\\Users\\Ricardo Hopker\\Massachusetts Institute of Technology\\EM.428 MDO Biogas spring 2021 - General\\Assignment A2'\n",
    "# DOE = pd.read_csv(url+'\\\\DOE.csv')\n",
    "DOE = pd.read_csv('DOE.csv')\n",
    " #Variables below are which farms should be activated\n",
    "\n",
    "# vector1 = [n_g,V_gburnP] #design variables\n",
    "# DOE_vector = [vector1,vector2] #all design vectors for DOE\n",
    "# DOE_vector=[]\n",
    "# for i in range(0,18):\n",
    "#     vector =  DOE.loc[i].values.flatten().tolist()\n",
    "#     DOE_vector.append(vector[1:])\n",
    "\n",
    "# DOE_n = 0\n",
    "\n",
    "\n",
    "import matplotlib.pyplot as plt\n",
    "import autograd.numpy as np\n",
    "\n",
    "# A0 = 1.0\n",
    "# def A(t, k1, k_1):\n",
    "\n",
    "\n",
    "\n",
    "def biodigestor(DV2_ng,printt=False,pen=True):\n",
    "    #Use printt to print the text within your modules, when running the optimization it should be set to False\n",
    "    #Use pen to penalize the function contraints being violated, when running the optimization it should be set to True\n",
    "    # DOE_n = DOE_n+1\n",
    "    # print('Design of experiment #%.0f' % (DOE_n))\n",
    "    #Optimal latitude and longitude for Digestor\n",
    "    #Digest_location = T.digestor_loc\n",
    "\n",
    "    #This loads the respective farms - 1 is active, 0 is inactive. Total farms must be at least 3 active (required by annealing)\n",
    "    #TOTAL_SOLIDS PERCENTAGE IS NOT USED\n",
    "    vector = [4.83662871e-01, 1.00000000e+00, 2.62359775e+01, \n",
    "            1.11820675e-03, 1.00000000e+00, 0.00000000e+00,0.00000000e+00, \n",
    "            1.00000000e+00, 0.00000000e+00, 1.00000000e+00,0.00000000e+00]\n",
    "    print('vector',vector)\n",
    "    active_farms= vector[4:11] \n",
    "    active_farms = [0 if num<1 else 1 for num in active_farms ]\n",
    "    # [distance, wIn, total_solids_perc, wComp] = T.load_data(1,1,1,1,1,1,1)\n",
    "    # [distance, wIn, total_solids_perc, wComp] = T.load_data(*active_farms,printt)\n",
    "    # if sum(active_farms)>2:\n",
    "    if printt:\n",
    "        [distance, wIn, total_solids_perc, wComp] = T.load_data(*active_farms,printt)\n",
    "    else:\n",
    "        [distance, wIn, total_solids_perc, wComp] = dict_T[tuple(active_farms)]\n",
    "    \n",
    "    #output from digester -- will return 9 values & print to console\n",
    "    Tdig = vector[2]\n",
    "    \n",
    "    [W_a, typ, V_d, G_in, G_comp, digOut, digOut_comp] = digester(wIn,wComp,Tdig)\n",
    "    # H_needed = JtokWh(H_needed*1000)\n",
    "    # print('----')\n",
    "    \n",
    "    #biogas module\n",
    "    V_g = B.biomethane(G_in, G_comp) #biomethane\n",
    "    #bg = B.biomethane_validation(kilos, wComp)\n",
    "    f_p = B.biofertilizer(digOut) \n",
    "    ghg_r, ghg_c = B.ghg(W_a, wComp, G_in, G_comp) #ghg_r: released gas, ghg_c: captured gas\n",
    "    bgm_total = B.bgm_cost(G_comp, G_in, digOut)\n",
    "    \n",
    "    #COST Module\n",
    "    V_g =V_g*working_days\n",
    "    ghg = pd.DataFrame()\n",
    "    ghg['ghg_lf']=ghg_r\n",
    "    ghg['ghg_tech']=ghg_c\n",
    "    ghg['gas']= ['CH4','CO2','NOX','SOX']\n",
    "    list_ghg = []\n",
    "    for gas in ['CH4','CO2','NOX','SOX']:\n",
    "        list_ghg.append(ghg[ghg['gas']==gas].values.flatten().tolist())\n",
    "    list_ghg = do_all_list_cp(W_a,distance,list_ghg)\n",
    "    \n",
    "    n_g = DV2_ng\n",
    "    #print(\"n_g\",n_g)\n",
    "    V_gburn = vector[0]*V_g\n",
    "    #print('vector[0]',vector[0])\n",
    "    debt_level = vector[3]\n",
    "    \n",
    "    return -farmer_npv(n_g,V_gburn,V_d,typ,distance,f_p,V_g,debt_level,e_c,e_priceB,f_used,p_bf,printt,pen)\n",
    "\n",
    "\n",
    "\n",
    "\n",
    "# t = np.linspace(0, 0.5)\n",
    "# k1 = \n",
    "# k_1 = 3.0\n",
    "\n",
    "import numpy as np\n",
    "\n",
    "ngs = np.linspace(1, 10,10)\n",
    "\n",
    "returned_v = []\n",
    "for ng in ngs:\n",
    "    returned_v.append(biodigestor(ng))\n",
    "\n",
    "print('return',returned_v)\n",
    "\n",
    "\n",
    "plt.plot(ngs, returned_v)\n",
    "plt.xlim([1, 10])\n",
    "plt.ylim([46751289, 47751289])\n",
    "plt.xlabel('Number of Reactor')\n",
    "plt.ylabel('NPV')\n",
    "\n",
    "\n",
    "\n",
    "# import autograd.numpy as np\n",
    "# A0 = 1.0\n",
    "# def A(t, k1, k_1):\n",
    "#     return A0 / (k1 + k_1) * (k1 * np.exp(-(k1 + k_1) * t) + k_1)\n",
    "# %matplotlib inline\n",
    "# import matplotlib.pyplot as plt\n",
    "# t = np.linspace(0, 0.5)\n",
    "# k1 = 3.0\n",
    "# k_1 = 3.0\n",
    "# plt.plot(t, A(t, k1, k_1))\n",
    "# plt.xlim([0, 0.5])\n",
    "# plt.ylim([0, 1])\n",
    "# plt.xlabel('t')\n",
    "# plt.ylabel('A')"
   ]
  },
  {
   "cell_type": "code",
   "execution_count": null,
   "metadata": {},
   "outputs": [],
   "source": []
  }
 ],
 "metadata": {
  "kernelspec": {
   "display_name": "Python 3",
   "language": "python",
   "name": "python3"
  },
  "language_info": {
   "codemirror_mode": {
    "name": "ipython",
    "version": 3
   },
   "file_extension": ".py",
   "mimetype": "text/x-python",
   "name": "python",
   "nbconvert_exporter": "python",
   "pygments_lexer": "ipython3",
   "version": "3.7.3"
  }
 },
 "nbformat": 4,
 "nbformat_minor": 2
}
